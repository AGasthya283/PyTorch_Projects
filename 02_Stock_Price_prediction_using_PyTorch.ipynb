{
 "cells": [
  {
   "cell_type": "markdown",
   "id": "4d36ec17",
   "metadata": {},
   "source": [
    "# **Stock Price Prediction using LSTMs with PyTorch** "
   ]
  },
  {
   "cell_type": "markdown",
   "id": "319015ee",
   "metadata": {},
   "source": [
    "# Predicting Stock Prices with LSTM in PyTorch\n",
    "\n",
    "## Introduction\n",
    "\n",
    "This project demonstrates how to predict stock prices using **Recurrent Neural Networks (RNNs)** and **Long Short-Term Memory (LSTM)** networks in PyTorch.\n",
    "\n",
    "### Recurrent Neural Networks (RNNs)\n",
    "RNNs are designed to work with **sequential data**, leveraging information from previous steps to make predictions. By maintaining a memory of prior inputs through loops in the network, RNNs can recognize temporal patterns and relationships.  \n",
    "\n",
    "An RNN typically consists of three types of layers:\n",
    "- **Input layer** – receives the sequential data  \n",
    "- **Hidden layer** – stores and processes historic information  \n",
    "- **Output layer** – generates predictions  \n",
    "\n",
    "During training, the network uses a **loss function** to measure the error between predicted and actual outputs, and weights are updated through **backpropagation**.\n",
    "\n",
    "RNNs are especially useful for analyzing **time series data**, where previous observations influence future values.\n",
    "\n",
    "### Long Short-Term Memory (LSTM)\n",
    "Traditional RNNs often struggle with learning **long-term dependencies** due to vanishing or exploding gradients. LSTMs address this by incorporating **gates** that control the flow of information, allowing the network to retain important historical data and forget irrelevant information.  \n",
    "\n",
    "An LSTM consists of three main gates:\n",
    "\n",
    "1. **Forget Gate** – decides which information to discard from the cell state  \n",
    "2. **Input Gate** – determines which new information to add  \n",
    "3. **Output Gate** – selects the output for the next hidden state  \n",
    "\n",
    "These gates enable the model to learn long-term dependencies more effectively, making LSTMs ideal for **time series prediction** tasks such as stock price forecasting.\n",
    "\n",
    "### LSTM Gate Equations\n",
    "\n",
    "**Forget Gate:**  \n",
    "$$\n",
    "f_t = \\sigma(W_f [h_{t-1}, x_t] + b_f)\n",
    "$$\n",
    "\n",
    "**Input Gate:**  \n",
    "$$\n",
    "i_t = \\sigma(W_i [h_{t-1}, x_t] + b_i), \\quad\n",
    "\\tilde{C}_t = \\tanh(W_C [h_{t-1}, x_t] + b_C)\n",
    "$$\n",
    "\n",
    "**Output Gate:**  \n",
    "$$\n",
    "o_t = \\sigma(W_o [h_{t-1}, x_t] + b_o), \\quad\n",
    "h_t = o_t \\odot \\tanh(C_t)\n",
    "$$\n",
    "\n",
    "Where:  \n",
    "- $x_t$ = input at time $t$  \n",
    "- $h_{t-1}$ = previous hidden state  \n",
    "- $C_t$ = cell state at time $t$  \n",
    "- $W$ and $b$ = weights and biases  \n",
    "- $\\sigma$ = sigmoid function  \n",
    "- $\\tanh$ = hyperbolic tangent function  \n",
    "- $\\odot$ = element-wise multiplication\n",
    "\n",
    "*Reference: S. Hochreiter and J. Schmidhuber, \"Long Short-Term Memory,\" Neural Computation, vol. 9, no. 8, pp. 1735-1780, 1997.*\n"
   ]
  },
  {
   "cell_type": "markdown",
   "id": "1677c9b0",
   "metadata": {},
   "source": [
    "## Step-1: Importing Required Libraries"
   ]
  },
  {
   "cell_type": "code",
   "execution_count": 1,
   "id": "c44383f3",
   "metadata": {},
   "outputs": [],
   "source": [
    "import torch\n",
    "from torch import nn\n",
    "import matplotlib.pyplot as plt\n",
    "import pandas as pd\n",
    "import numpy as np\n",
    "from tqdm import tqdm"
   ]
  },
  {
   "cell_type": "markdown",
   "id": "9cadbd64",
   "metadata": {},
   "source": [
    "## Step-2: Download and Load the Dataset"
   ]
  },
  {
   "cell_type": "markdown",
   "id": "3dad7458",
   "metadata": {},
   "source": [
    "The stock market can be extremely volatile, there are many factors that can influence and contribute to a stock's value. This tutorial uses the following parameters for the stock data.\n",
    "\n",
    "- **Open**: The stock's price when the market opens.\n",
    "- **High**: The highest price at which a stock is trading during market hours.\n",
    "- **Low**: The lowest price at which a stock is trading during market hours.\n",
    "- **Close**: The stock's price when the market closes. This price is used by financial institutions as the value of a stock on a particular day because it takes into consideration all of the day's events and any fluctuations that might have occurred during the market.\n",
    "\n",
    "The overall importance of the Close value and its use as a benchmark for a stock's daily value indicates that this value is the one to use in the prediction. To accomplish this, you can build a model that uses Long Short-Term Memory (LSTM), an RNN technique, to store and analyze large sets of time series data.\n"
   ]
  },
  {
   "cell_type": "code",
   "execution_count": 2,
   "id": "129aeefc",
   "metadata": {},
   "outputs": [
    {
     "name": "stdout",
     "output_type": "stream",
     "text": [
      "--2025-09-20 23:45:33--  https://drive.google.com/uc?export=download&id=10r0fuFBhhqcMqGg7gltBznEEdRrLznod\n",
      "Resolving drive.google.com (drive.google.com)... 2404:6800:4007:836::200e, 142.250.77.110\n",
      "Connecting to drive.google.com (drive.google.com)|2404:6800:4007:836::200e|:443... connected.\n",
      "HTTP request sent, awaiting response... 303 See Other\n",
      "Location: https://drive.usercontent.google.com/download?id=10r0fuFBhhqcMqGg7gltBznEEdRrLznod&export=download [following]\n",
      "--2025-09-20 23:45:33--  https://drive.usercontent.google.com/download?id=10r0fuFBhhqcMqGg7gltBznEEdRrLznod&export=download\n",
      "Resolving drive.usercontent.google.com (drive.usercontent.google.com)... 2404:6800:4007:816::2001, 142.250.193.161\n",
      "Connecting to drive.usercontent.google.com (drive.usercontent.google.com)|2404:6800:4007:816::2001|:443... connected.\n",
      "HTTP request sent, awaiting response... 200 OK\n",
      "Length: 385926 (377K) [application/octet-stream]\n",
      "Saving to: ‘StockData.csv’\n",
      "\n",
      "StockData.csv       100%[===================>] 376.88K  1.36MB/s    in 0.3s    \n",
      "\n",
      "2025-09-20 23:45:35 (1.36 MB/s) - ‘StockData.csv’ saved [385926/385926]\n",
      "\n"
     ]
    }
   ],
   "source": [
    "# Download the Dataset\n",
    "\n",
    "!wget --no-check-certificate 'https://drive.google.com/uc?export=download&id=10r0fuFBhhqcMqGg7gltBznEEdRrLznod' -O StockData.csv"
   ]
  },
  {
   "cell_type": "code",
   "execution_count": 3,
   "id": "6515c229",
   "metadata": {},
   "outputs": [],
   "source": [
    "# Load the Dataset\n",
    "\n",
    "df = pd.read_csv(\"StockData.csv\")\n",
    "df.drop(['Unnamed: 0'], axis=1, inplace = True)"
   ]
  },
  {
   "cell_type": "code",
   "execution_count": 4,
   "id": "3f3c0df4",
   "metadata": {},
   "outputs": [
    {
     "data": {
      "text/html": [
       "<div>\n",
       "<style scoped>\n",
       "    .dataframe tbody tr th:only-of-type {\n",
       "        vertical-align: middle;\n",
       "    }\n",
       "\n",
       "    .dataframe tbody tr th {\n",
       "        vertical-align: top;\n",
       "    }\n",
       "\n",
       "    .dataframe thead th {\n",
       "        text-align: right;\n",
       "    }\n",
       "</style>\n",
       "<table border=\"1\" class=\"dataframe\">\n",
       "  <thead>\n",
       "    <tr style=\"text-align: right;\">\n",
       "      <th></th>\n",
       "      <th>Date</th>\n",
       "      <th>Open</th>\n",
       "      <th>High</th>\n",
       "      <th>Low</th>\n",
       "      <th>Close</th>\n",
       "    </tr>\n",
       "  </thead>\n",
       "  <tbody>\n",
       "    <tr>\n",
       "      <th>0</th>\n",
       "      <td>2018-03-27</td>\n",
       "      <td>173.68</td>\n",
       "      <td>175.15</td>\n",
       "      <td>166.92</td>\n",
       "      <td>168.340</td>\n",
       "    </tr>\n",
       "    <tr>\n",
       "      <th>1</th>\n",
       "      <td>2018-03-26</td>\n",
       "      <td>168.07</td>\n",
       "      <td>173.10</td>\n",
       "      <td>166.44</td>\n",
       "      <td>172.770</td>\n",
       "    </tr>\n",
       "    <tr>\n",
       "      <th>2</th>\n",
       "      <td>2018-03-23</td>\n",
       "      <td>168.39</td>\n",
       "      <td>169.92</td>\n",
       "      <td>164.94</td>\n",
       "      <td>164.940</td>\n",
       "    </tr>\n",
       "    <tr>\n",
       "      <th>3</th>\n",
       "      <td>2018-03-22</td>\n",
       "      <td>170.00</td>\n",
       "      <td>172.68</td>\n",
       "      <td>168.60</td>\n",
       "      <td>168.845</td>\n",
       "    </tr>\n",
       "    <tr>\n",
       "      <th>4</th>\n",
       "      <td>2018-03-21</td>\n",
       "      <td>175.04</td>\n",
       "      <td>175.09</td>\n",
       "      <td>171.26</td>\n",
       "      <td>171.270</td>\n",
       "    </tr>\n",
       "  </tbody>\n",
       "</table>\n",
       "</div>"
      ],
      "text/plain": [
       "         Date    Open    High     Low    Close\n",
       "0  2018-03-27  173.68  175.15  166.92  168.340\n",
       "1  2018-03-26  168.07  173.10  166.44  172.770\n",
       "2  2018-03-23  168.39  169.92  164.94  164.940\n",
       "3  2018-03-22  170.00  172.68  168.60  168.845\n",
       "4  2018-03-21  175.04  175.09  171.26  171.270"
      ]
     },
     "execution_count": 4,
     "metadata": {},
     "output_type": "execute_result"
    }
   ],
   "source": [
    "# Previewing the Dataset\n",
    "\n",
    "df.head()"
   ]
  },
  {
   "cell_type": "markdown",
   "id": "748eb2ea",
   "metadata": {},
   "source": [
    "### Converting Dates and Inspecting the Dataset\n",
    "\n",
    "- We create a new variable `stock_data` as a copy of `df` to work with, keeping the original DataFrame intact.  \n",
    "- The `'Date'` column is converted to a **datetime object** using `pd.to_datetime()`, which allows for proper **time series operations and indexing**.  \n",
    "- `stock_data.info()` provides a **summary of the DataFrame**, including:\n",
    "  - Number of entries (rows)  \n",
    "  - Column names and data types  \n",
    "  - Number of non-null values  \n",
    "- This step helps verify that the date conversion worked and check for any **missing data** in the dataset.\n"
   ]
  },
  {
   "cell_type": "code",
   "execution_count": 5,
   "id": "8fbf5071",
   "metadata": {},
   "outputs": [
    {
     "name": "stdout",
     "output_type": "stream",
     "text": [
      "Information about the dataset\n",
      "<class 'pandas.core.frame.DataFrame'>\n",
      "RangeIndex: 9400 entries, 0 to 9399\n",
      "Data columns (total 5 columns):\n",
      " #   Column  Non-Null Count  Dtype         \n",
      "---  ------  --------------  -----         \n",
      " 0   Date    9400 non-null   datetime64[ns]\n",
      " 1   Open    9400 non-null   float64       \n",
      " 2   High    9400 non-null   float64       \n",
      " 3   Low     9400 non-null   float64       \n",
      " 4   Close   9400 non-null   float64       \n",
      "dtypes: datetime64[ns](1), float64(4)\n",
      "memory usage: 367.3 KB\n",
      "None\n"
     ]
    }
   ],
   "source": [
    "stock_data = df\n",
    "# Convert the date column into a Datetime object:\n",
    "stock_data['Date'] = pd.to_datetime(df.Date)\n",
    "print(\"Information about the dataset\", end = \"\\n\")\n",
    "print(stock_data.info())"
   ]
  },
  {
   "cell_type": "markdown",
   "id": "9f9dfcf0",
   "metadata": {},
   "source": [
    "### Inspecting the Start and End of the Dataset\n",
    "\n",
    "- This is useful in **time series analysis** to understand the chronological order of data and verify that there are no missing or misaligned entries at the start or end.\n"
   ]
  },
  {
   "cell_type": "code",
   "execution_count": 6,
   "id": "c9bcac29",
   "metadata": {},
   "outputs": [
    {
     "name": "stdout",
     "output_type": "stream",
     "text": [
      "First five elements in the dataset\n",
      "        Date    Open    High     Low    Close\n",
      "0 2018-03-27  173.68  175.15  166.92  168.340\n",
      "1 2018-03-26  168.07  173.10  166.44  172.770\n",
      "2 2018-03-23  168.39  169.92  164.94  164.940\n",
      "3 2018-03-22  170.00  172.68  168.60  168.845\n",
      "4 2018-03-21  175.04  175.09  171.26  171.270\n",
      "Last five elements in the dataset\n",
      "           Date   Open   High    Low  Close\n",
      "9395 1980-12-18  26.63  26.75  26.63  26.63\n",
      "9396 1980-12-17  25.87  26.00  25.87  25.87\n",
      "9397 1980-12-16  25.37  25.37  25.25  25.25\n",
      "9398 1980-12-15  27.38  27.38  27.25  27.25\n",
      "9399 1980-12-12  28.75  28.87  28.75  28.75\n"
     ]
    }
   ],
   "source": [
    "print(\"First five elements in the dataset\", end = \"\\n\")\n",
    "print(stock_data.head(5))\n",
    "print(\"Last five elements in the dataset\", end = \"\\n\")\n",
    "print(stock_data.tail(5))"
   ]
  },
  {
   "cell_type": "markdown",
   "id": "794026f6",
   "metadata": {},
   "source": [
    "### Sorting the Dataset by Date\n",
    "\n",
    "- `stock_data.sort_values(by=\"Date\")` sorts the DataFrame in **chronological order** based on the `'Date'` column.  \n",
    "- Sorting ensures that all **time series operations and predictions** use data in the correct temporal sequence.  \n",
    "- `stock_data.head()` is used to quickly **verify that the earliest dates appear first** after sorting."
   ]
  },
  {
   "cell_type": "code",
   "execution_count": 7,
   "id": "3cb80830",
   "metadata": {},
   "outputs": [
    {
     "name": "stdout",
     "output_type": "stream",
     "text": [
      "           Date   Open   High    Low  Close\n",
      "9399 1980-12-12  28.75  28.87  28.75  28.75\n",
      "9398 1980-12-15  27.38  27.38  27.25  27.25\n",
      "9397 1980-12-16  25.37  25.37  25.25  25.25\n",
      "9396 1980-12-17  25.87  26.00  25.87  25.87\n",
      "9395 1980-12-18  26.63  26.75  26.63  26.63\n"
     ]
    }
   ],
   "source": [
    "stock_data = stock_data.sort_values(by=\"Date\")\n",
    "print(stock_data.head())"
   ]
  },
  {
   "cell_type": "markdown",
   "id": "7234b0ce",
   "metadata": {},
   "source": [
    "## Step-3: Data Scaling"
   ]
  },
  {
   "cell_type": "markdown",
   "id": "c437b912",
   "metadata": {},
   "source": [
    "### Selecting Price Features\n",
    "\n",
    "- We select the relevant columns for modeling: `'High'`, `'Low'`, `'Open'`, and `'Close'` and store them in a new DataFrame called `price`.  \n",
    "- These columns represent the **daily stock prices** that will be used as input features for the LSTM model.  \n"
   ]
  },
  {
   "cell_type": "code",
   "execution_count": 8,
   "id": "0a0ba266",
   "metadata": {},
   "outputs": [
    {
     "name": "stdout",
     "output_type": "stream",
     "text": [
      "       High    Low   Open  Close\n",
      "9399  28.87  28.75  28.75  28.75\n",
      "9398  27.38  27.25  27.38  27.25\n",
      "9397  25.37  25.25  25.37  25.25\n",
      "9396  26.00  25.87  25.87  25.87\n",
      "9395  26.75  26.63  26.63  26.63\n"
     ]
    }
   ],
   "source": [
    "from sklearn.preprocessing import MinMaxScaler\n",
    "price = stock_data[['High','Low','Open','Close']]\n",
    "print(price[:5])"
   ]
  },
  {
   "cell_type": "markdown",
   "id": "7e3ec7ee",
   "metadata": {},
   "source": [
    "### Scaling the Price Data\n",
    "\n",
    "- We use `MinMaxScaler` from `sklearn.preprocessing` to **normalize the stock prices**.  \n",
    "- `feature_range=(-1, 1)` scales all values to lie between **-1 and 1**, which helps the LSTM model **train faster and converge better**.  \n",
    "- `scaler.fit_transform(price.values)` fits the scaler to the data and transforms it in one step.  "
   ]
  },
  {
   "cell_type": "code",
   "execution_count": 9,
   "id": "9df50fd1",
   "metadata": {},
   "outputs": [
    {
     "name": "stdout",
     "output_type": "stream",
     "text": [
      "[[-0.94884358 -0.94844388 -0.94899391 -0.94863261]\n",
      " [-0.95313783 -0.95280073 -0.95295751 -0.95297352]\n",
      " [-0.95893076 -0.95860987 -0.95877273 -0.95876139]\n",
      " [-0.95711507 -0.95680904 -0.95732616 -0.95696715]\n",
      " [-0.95495353 -0.95460157 -0.95512737 -0.95476776]]\n"
     ]
    }
   ],
   "source": [
    "scaler = MinMaxScaler(feature_range=(-1, 1))\n",
    "price = scaler.fit_transform(price.values)\n",
    "print(price[:5])"
   ]
  },
  {
   "cell_type": "markdown",
   "id": "e8def75b",
   "metadata": {},
   "source": [
    "## Step-4: Defining Training and Test Data"
   ]
  },
  {
   "cell_type": "markdown",
   "id": "cc023954",
   "metadata": {},
   "source": [
    "### Creating Input-Output Sequences for LSTM\n",
    "\n",
    "- **Objective:** LSTMs require sequential input, so we create **sliding windows of past prices** to predict the next closing price.\n",
    "\n",
    "1. **Define window size:**  \n",
    "   `train_window = 7` means we use the **past 7 days of prices** to predict the next day's closing price.\n",
    "\n",
    "2. **Function `create_in_out_sequences(price, tw)`:**  \n",
    "   - Iterates over the entire dataset and extracts sequences of length `tw` (`data_seq`).  \n",
    "   - The **label** for each sequence is the **closing price** on the day after the sequence (`data_label = price[i+tw][3]`).  \n",
    "   - Appends each `(sequence, label)` pair to `inout_seq`.\n",
    "\n",
    "3. **Train-test split:**  \n",
    "   - `test_set_size = 20` defines the number of sequences to reserve for testing.  \n",
    "   - `train_set_size = len(data) - test_set_size` determines the training set length.  \n",
    "   - The dataset is split into `train` and `test` sequences.  \n",
    "   - `train = train[:-(tw-1)]` ensures alignment so all sequences have full context.\n",
    "\n",
    "This prepares the dataset in the **sequence format required for LSTM training**."
   ]
  },
  {
   "cell_type": "code",
   "execution_count": 12,
   "id": "23ffb7e7",
   "metadata": {},
   "outputs": [
    {
     "name": "stdout",
     "output_type": "stream",
     "text": [
      "Length =  9400\n",
      "size of data :  9393\n",
      "size of test :  20\n",
      "size of train :  9373\n"
     ]
    }
   ],
   "source": [
    "train_window = 7\n",
    "\n",
    "# def create_in_out_sequences(price, tw):\n",
    "#     inout_seq = []\n",
    "#     L = len(price)\n",
    "#     print('Length = ', L)\n",
    "    \n",
    "#     for i in range(L-tw):\n",
    "#         data_seq = price.iloc[i:i+tw]  # Use .iloc for positional indexing\n",
    "#         # Option 1: Access by column name (recommended)\n",
    "#         data_label = price.iloc[i+tw]['Close']  # assuming 'Close' column exists\n",
    "        \n",
    "#         # Option 2: Access by position (if Close is the 4th column, index 3)\n",
    "#         # data_label = price.iloc[i+tw, 3]\n",
    "#         inout_seq.append((data_seq, data_label))\n",
    "    \n",
    "#     data = inout_seq\n",
    "#     print('size of data : ', len(data))\n",
    "    \n",
    "#     test_set_size = 20\n",
    "#     train_set_size = len(data) - test_set_size\n",
    "#     print('size of test : ', test_set_size)\n",
    "#     print('size of train : ', train_set_size)\n",
    "    \n",
    "#     train = data[:train_set_size]\n",
    "#     test = data[train_set_size:]\n",
    "#     train = train[:-(tw-1)]\n",
    "#     return train, test\n",
    "\n",
    "# train, test = create_in_out_sequences(price, train_window)\n",
    "\n",
    "def create_in_out_sequences(price, tw):\n",
    "    inout_seq = []\n",
    "    L = len(price)\n",
    "    print('Length = ', L)\n",
    "    \n",
    "    for i in range(L-tw):\n",
    "        data_seq = price[i:i+tw]\n",
    "        data_label = price[i+tw:i+tw+1][0][3]\n",
    "        inout_seq.append((data_seq ,data_label))\n",
    "    \n",
    "    data = inout_seq;\n",
    "    print('size of data : ', len(data))\n",
    "    \n",
    "    test_set_size = 20\n",
    "    train_set_size = len(data) - (test_set_size);\n",
    "    print('size of test : ', test_set_size)\n",
    "    print('size of train : ', train_set_size)\n",
    "    \n",
    "    train = data[:train_set_size]\n",
    "    test = data[train_set_size:]\n",
    "    train = train[:-(tw-1)]\n",
    "    return train, test\n",
    "    \n",
    "train,test = create_in_out_sequences(price, train_window)"
   ]
  },
  {
   "cell_type": "markdown",
   "id": "b695a106",
   "metadata": {},
   "source": [
    "The `create_in_out_sequences` method creates labels for the dataset and isolates the datapoints we are inputting into the model, taking into account the training and test size and returns the training and test sets.\n"
   ]
  },
  {
   "cell_type": "code",
   "execution_count": 13,
   "id": "4ea7928b",
   "metadata": {},
   "outputs": [
    {
     "name": "stdout",
     "output_type": "stream",
     "text": [
      "(array([[-0.52820808, -0.53303223, -0.53350981, -0.53283172],\n",
      "       [-0.52982203, -0.53404883, -0.53440669, -0.5345102 ],\n",
      "       [-0.53022552, -0.5352397 , -0.53215004, -0.53676747],\n",
      "       [-0.53071547, -0.5332065 , -0.53512997, -0.53233975],\n",
      "       [-0.52581598, -0.52789114, -0.5297198 , -0.52378816],\n",
      "       [-0.51503711, -0.52013593, -0.52196618, -0.51390537],\n",
      "       [-0.51189567, -0.51447202, -0.51401004, -0.51558385]]), np.float64(-0.5163652148748373))\n",
      "(array([[-0.56112112, -0.56992463, -0.56034371, -0.57013457],\n",
      "       [-0.56803804, -0.58165473, -0.56843004, -0.58234698],\n",
      "       [-0.57700122, -0.59556763, -0.57774595, -0.58046592],\n",
      "       [-0.55970891, -0.5744514 , -0.57360876, -0.56096079],\n",
      "       [-0.55723035, -0.56242648, -0.56362742, -0.55624367],\n",
      "       [-0.54918942, -0.55885386, -0.56045943, -0.54747504],\n",
      "       [-0.53319403, -0.54107789, -0.54094519, -0.53121111]]), np.float64(-0.5328317175517292))\n"
     ]
    }
   ],
   "source": [
    "print(test[0])\n",
    "print(train[-1])"
   ]
  },
  {
   "cell_type": "markdown",
   "id": "aa77b1dd",
   "metadata": {},
   "source": [
    "## Step-5: Defining LSTM and forward method"
   ]
  },
  {
   "cell_type": "markdown",
   "id": "af653dbf",
   "metadata": {},
   "source": [
    "- We define a **custom LSTM model** using PyTorch by subclassing `nn.Module`.\n",
    "\n",
    "#### Model Components:\n",
    "\n",
    "1. **Initialization (`__init__`)**  \n",
    "   - `input_size=4`: Each input has 4 features (`High`, `Low`, `Open`, `Close`).  \n",
    "   - `hidden_layer_size=100`: Number of neurons in the LSTM hidden layer.  \n",
    "   - `output_size=1`: Predicting a single value — the **next day’s closing price**.  \n",
    "   - `self.lstm = nn.LSTM(input_size, hidden_layer_size)`: LSTM layer to process sequential data.  \n",
    "   - `self.linear = nn.Linear(hidden_layer_size, output_size)`: Fully connected layer to map LSTM output to the predicted price.\n",
    "\n",
    "2. **Forward Pass (`forward`)**  \n",
    "   - `hidden_cell`: Initializes the **hidden state and cell state** to zeros.  \n",
    "   - `input_seq.view(len(input_seq), 1, -1)`: Reshapes input to match LSTM expected shape `(sequence_length, batch_size, features)`.  \n",
    "   - `lstm_out, hidden_cell = self.lstm(...)`: Processes the input sequence through the LSTM.  \n",
    "   - `lstm_out.view(len(input_seq), -1)`: Reshapes LSTM output for the linear layer.  \n",
    "   - `self.linear(...)`: Converts hidden layer output to a single prediction.  \n",
    "   - `return predictions[-1]`: Returns the **last output** of the sequence as the predicted closing price.\n",
    "\n",
    "- **Summary:** This model takes a **sequence of past 7 days** (or `train_window`) of stock prices and predicts the **next day’s closing price** using an LSTM with a fully connected output layer."
   ]
  },
  {
   "cell_type": "code",
   "execution_count": 14,
   "id": "51de9ec4",
   "metadata": {},
   "outputs": [],
   "source": [
    "class LSTM(nn.Module):\n",
    "    def __init__(self, input_size=4, hidden_layer_size=100, output_size=1):\n",
    "        super().__init__()\n",
    "        self.hidden_layer_size = hidden_layer_size\n",
    "\n",
    "        self.lstm = nn.LSTM(input_size, hidden_layer_size)\n",
    "\n",
    "        self.linear = nn.Linear(hidden_layer_size, output_size)\n",
    "\n",
    "    def forward(self, input_seq):\n",
    "        hidden_cell = (torch.zeros(1,1,self.hidden_layer_size),\n",
    "                       torch.zeros(1,1,self.hidden_layer_size),\n",
    "                      )\n",
    "        lstm_out, hidden_cell = self.lstm(input_seq.view(len(input_seq), 1, -1), hidden_cell)\n",
    "        predictions = self.linear(lstm_out.view(len(input_seq), -1))\n",
    "        return predictions[-1]"
   ]
  },
  {
   "cell_type": "markdown",
   "id": "e9fd943a",
   "metadata": {},
   "source": [
    "### Initializing the LSTM Model, Loss Function, and Optimizer\n",
    "\n",
    "- **Loss Funstion** :  Mean Squared Error (MSE) is used to measure the difference between predicted and actual closing prices. It's a standard choice for regression tasks.\n",
    "- **Optimiser** : Adam optimizer is used to update the model's weights during training.\n",
    "   - lr=0.001 specifies the learning rate, controlling the size of each weight update step.\n",
    "\n",
    "Together, these components set up the model for training: the LSTM generates predictions, the loss function quantifies the error, and the optimizer adjusts the weights to minimize that error."
   ]
  },
  {
   "cell_type": "code",
   "execution_count": 15,
   "id": "124a5301",
   "metadata": {},
   "outputs": [],
   "source": [
    "model = LSTM()\n",
    "loss_function = nn.MSELoss()\n",
    "optimizer = torch.optim.Adam(model.parameters(), lr=0.001)"
   ]
  },
  {
   "cell_type": "markdown",
   "id": "3a101421",
   "metadata": {},
   "source": [
    "## Step-6: Model Training"
   ]
  },
  {
   "cell_type": "markdown",
   "id": "aa240a87",
   "metadata": {},
   "source": [
    "### Training the LSTM Model\n",
    "\n",
    "This loop is responsible for training the LSTM model to predict the next day's closing price based on sequences of past stock prices. The process works as follows:\n",
    "\n",
    "1. **Epoch Loop:** The training process runs for multiple epochs (iterations over the entire training dataset) to allow the model to gradually learn patterns from the data.\n",
    "\n",
    "2. **Sequence Iteration:** For each epoch, the model iterates over every input sequence and its corresponding label in the training set.\n",
    "\n",
    "3. **Data Preparation:** Each sequence and label is converted into a PyTorch tensor of type `FloatTensor` so it can be processed by the model.\n",
    "\n",
    "4. **Resetting Gradients:** Before each forward pass, the optimizer's gradients are reset to avoid accumulation from previous steps.\n",
    "\n",
    "5. **Forward Pass:** The model processes the input sequence and predicts the next day's closing price.\n",
    "\n",
    "6. **Reshaping Labels:** The label tensor is reshaped to ensure it matches the prediction's shape for correct loss calculation.\n",
    "\n",
    "7. **Loss Calculation:** The difference between the predicted value and the actual closing price is measured using Mean Squared Error (MSE), which quantifies the prediction error.\n",
    "\n",
    "8. **Backward Pass and Optimization:** The loss is backpropagated through the network, and the optimizer updates the model's weights to reduce the error.\n",
    "\n",
    "9. **Tracking Epoch Loss:** The loss for each sequence is accumulated to calculate the average loss for the epoch, which provides insight into how well the model is learning.\n",
    "\n",
    "10. **Monitoring Training Progress:** After each epoch, the average loss is printed. A decreasing loss over epochs indicates that the model is successfully learning the patterns in the stock price data.\n",
    "\n",
    "Overall, this loop trains the LSTM iteratively, enabling it to capture temporal dependencies in the stock prices and improve prediction accuracy over time.\n"
   ]
  },
  {
   "cell_type": "code",
   "execution_count": 16,
   "id": "3d09e8b8",
   "metadata": {},
   "outputs": [
    {
     "name": "stderr",
     "output_type": "stream",
     "text": [
      "100%|██████████| 9367/9367 [00:21<00:00, 426.31it/s]\n",
      " 20%|██        | 1/5 [00:21<01:27, 21.98s/it]"
     ]
    },
    {
     "name": "stdout",
     "output_type": "stream",
     "text": [
      "epoch:   0 loss: 0.0021388491\n"
     ]
    },
    {
     "name": "stderr",
     "output_type": "stream",
     "text": [
      "100%|██████████| 9367/9367 [00:22<00:00, 424.16it/s]\n",
      " 40%|████      | 2/5 [00:44<01:06, 22.04s/it]"
     ]
    },
    {
     "name": "stdout",
     "output_type": "stream",
     "text": [
      "epoch:   1 loss: 0.0012496319\n"
     ]
    },
    {
     "name": "stderr",
     "output_type": "stream",
     "text": [
      "100%|██████████| 9367/9367 [00:22<00:00, 425.58it/s]\n",
      " 60%|██████    | 3/5 [01:06<00:44, 22.03s/it]"
     ]
    },
    {
     "name": "stdout",
     "output_type": "stream",
     "text": [
      "epoch:   2 loss: 0.0011904166\n"
     ]
    },
    {
     "name": "stderr",
     "output_type": "stream",
     "text": [
      "100%|██████████| 9367/9367 [00:21<00:00, 443.56it/s]\n",
      " 80%|████████  | 4/5 [01:27<00:21, 21.67s/it]"
     ]
    },
    {
     "name": "stdout",
     "output_type": "stream",
     "text": [
      "epoch:   3 loss: 0.0011462343\n"
     ]
    },
    {
     "name": "stderr",
     "output_type": "stream",
     "text": [
      "100%|██████████| 9367/9367 [00:21<00:00, 440.64it/s]\n",
      "100%|██████████| 5/5 [01:48<00:00, 21.69s/it]"
     ]
    },
    {
     "name": "stdout",
     "output_type": "stream",
     "text": [
      "epoch:   4 loss: 0.0009721060\n"
     ]
    },
    {
     "name": "stderr",
     "output_type": "stream",
     "text": [
      "\n"
     ]
    }
   ],
   "source": [
    "from tqdm import tqdm\n",
    "        \n",
    "epochs = 5\n",
    "for i in tqdm(range(epochs)):\n",
    "    epoch_loss = 0\n",
    "    for seq, labels in tqdm(train):\n",
    "        seq = torch.from_numpy(np.array(seq)).type(torch.FloatTensor)\n",
    "        labels = torch.from_numpy(np.array(labels)).type(torch.FloatTensor)\n",
    "\n",
    "        optimizer.zero_grad()\n",
    "\n",
    "        y_pred = model(seq)\n",
    "        \n",
    "        labels = labels.view(1)\n",
    "        \n",
    "        single_loss = loss_function(y_pred, labels)\n",
    "        single_loss.backward()\n",
    "        optimizer.step()\n",
    "\n",
    "        epoch_loss += single_loss.item()\n",
    "\n",
    "    average_loss = epoch_loss / len(train)\n",
    "    print(f'epoch: {i:3} loss: {average_loss:.10f}')"
   ]
  },
  {
   "cell_type": "markdown",
   "id": "595352b2",
   "metadata": {},
   "source": [
    "### Evaluating the LSTM Model on Test Data\n",
    "\n",
    "- **Switch to Evaluation Mode:** The model is set to evaluation mode, which **disables dropout and other training-specific behaviors**, ensuring consistent predictions.  \n",
    "\n",
    "- **Prepare Lists for Results:** Two empty lists are initialized: one for the **actual closing prices** and one for the **predicted closing prices**.  \n",
    "\n",
    "- **Iterate Over Test Sequences:** For each sequence in the test set:\n",
    "  - Convert the sequence and its label into PyTorch tensors.\n",
    "  - Append the actual closing price to the `actual` list.\n",
    "  - Use `torch.no_grad()` to **disable gradient computation** during prediction, which saves memory and speeds up evaluation.\n",
    "  - Pass the input sequence to the model and append the predicted closing price to the `pred` list.\n",
    "\n",
    "- **Convert to NumPy Arrays:** After iterating through all test sequences, both `actual` and `pred` lists are converted into NumPy arrays.  \n",
    "\n",
    "This process generates the **predicted vs actual stock prices**, which can be used for **visualization, error calculation, or further analysis** to evaluate the model’s performance on unseen data.\n"
   ]
  },
  {
   "cell_type": "code",
   "execution_count": 17,
   "id": "3dd9f75c",
   "metadata": {},
   "outputs": [],
   "source": [
    "model.eval()\n",
    "actual = []\n",
    "pred = []\n",
    "\n",
    "for seq, labels in test:\n",
    "    seq = torch.from_numpy(np.array(seq)).type(torch.FloatTensor)\n",
    "    labels = torch.from_numpy(np.array(labels)).type(torch.FloatTensor)\n",
    "    actual.append(labels.item())\n",
    "    with torch.no_grad():\n",
    "        pred.append(model(seq).item())\n",
    "\n",
    "actual = np.array(actual)\n",
    "pred = np.array(pred)"
   ]
  },
  {
   "cell_type": "markdown",
   "id": "0ebdbf2d",
   "metadata": {},
   "source": [
    "### Converting Predictions and Actual Values to Tensors\n",
    "\n",
    "- The predicted (`pred`) and actual (`actual`) stock prices, which were stored as NumPy arrays, are converted into **PyTorch tensors**.  \n",
    "- This conversion is necessary if we want to perform **further tensor-based operations** in PyTorch, such as calculating metrics, loss, or performing batch operations.  \n",
    "- Using tensors allows leveraging **GPU acceleration** and PyTorch’s built-in functions for efficient computation.\n"
   ]
  },
  {
   "cell_type": "code",
   "execution_count": 18,
   "id": "a4773c7c",
   "metadata": {},
   "outputs": [],
   "source": [
    "pred = torch.from_numpy(np.array(pred)).type(torch.Tensor)\n",
    "actual = torch.from_numpy(np.array(actual)).type(torch.Tensor)"
   ]
  },
  {
   "cell_type": "code",
   "execution_count": 19,
   "id": "1c756b8b",
   "metadata": {},
   "outputs": [
    {
     "name": "stdout",
     "output_type": "stream",
     "text": [
      "tensor([-0.5447, -0.5448, -0.5487, -0.5502, -0.5475, -0.5467, -0.5501, -0.5473,\n",
      "        -0.5443, -0.5417, -0.5423, -0.5450, -0.5447, -0.5457, -0.5490, -0.5485,\n",
      "        -0.5525, -0.5557, -0.5593, -0.5535])\n",
      "tensor([-0.5164, -0.5254, -0.5219, -0.5201, -0.5206, -0.5253, -0.5198, -0.5110,\n",
      "        -0.5059, -0.5110, -0.5154, -0.5148, -0.5167, -0.5245, -0.5247, -0.5362,\n",
      "        -0.5432, -0.5545, -0.5318, -0.5447])\n"
     ]
    }
   ],
   "source": [
    "print(pred)\n",
    "print(actual)"
   ]
  },
  {
   "cell_type": "markdown",
   "id": "070f7c43",
   "metadata": {},
   "source": [
    "### Inverting the Scaling of Predictions\n",
    "\n",
    "- The LSTM model was trained on **scaled stock prices** (values between -1 and 1), so the predictions are also in the scaled range.  \n",
    "- To interpret predictions in the **original price scale**, we apply the inverse transform using the same `MinMaxScaler` that was used for scaling.  \n",
    "- Since `MinMaxScaler` expects all feature columns, we create a temporary array with zeros for the other columns and insert the predicted closing prices in the fourth column.  \n",
    "- `scaler.inverse_transform()` converts the scaled predictions back to **actual stock price values**.  \n",
    "- `pred_new[:,3]` extracts the **predicted closing prices** in their original scale, which can now be compared directly to the true closing prices.\n"
   ]
  },
  {
   "cell_type": "code",
   "execution_count": 20,
   "id": "2d923477",
   "metadata": {},
   "outputs": [
    {
     "name": "stdout",
     "output_type": "stream",
     "text": [
      "[168.32746409 168.28056612 166.9549004  166.44188564 167.37030889\n",
      " 167.62728998 166.46019583 167.44383798 168.47308053 169.3820402\n",
      " 169.1569629  168.22017752 168.32540445 167.98467846 166.82674969\n",
      " 167.02146792 165.62688669 164.51935728 163.28538666 165.29063011]\n"
     ]
    },
    {
     "name": "stderr",
     "output_type": "stream",
     "text": [
      "/tmp/ipykernel_255659/692812478.py:1: DeprecationWarning: __array__ implementation doesn't accept a copy keyword, so passing copy=False failed. __array__ must implement 'dtype' and 'copy' keyword arguments. To learn more, see the migration guide https://numpy.org/devdocs/numpy_2_0_migration_guide.html#adapting-to-changes-in-the-copy-keyword\n",
      "  pred_new = scaler.inverse_transform(np.c_[np.zeros(20),np.zeros(20),np.zeros(20),np.array(pred)])\n"
     ]
    }
   ],
   "source": [
    "pred_new = scaler.inverse_transform(np.c_[np.zeros(20),np.zeros(20),np.zeros(20),np.array(pred)])\n",
    "print(pred_new[:,3])"
   ]
  },
  {
   "cell_type": "markdown",
   "id": "6198d5c4",
   "metadata": {},
   "source": [
    "### Inverting the Scaling of Actual Values\n",
    "\n",
    "- Just like the predictions, the **actual closing prices** in the test set were originally scaled between -1 and 1.  \n",
    "- To compare predictions with real prices in a meaningful way, we **invert the scaling** using the same `MinMaxScaler`.  \n",
    "- We create a temporary array with zeros for the other features and place the actual closing prices in the fourth column.  \n",
    "- `scaler.inverse_transform()` converts the scaled values back to their **original price range**.  \n",
    "- `actual_new[:,3]` extracts the **true closing prices** in their original scale, ready for comparison with the predicted prices.\n"
   ]
  },
  {
   "cell_type": "code",
   "execution_count": 21,
   "id": "3d437330",
   "metadata": {},
   "outputs": [
    {
     "name": "stdout",
     "output_type": "stream",
     "text": [
      "[178.11999474 174.99999256 176.21000958 176.81999212 176.67000924\n",
      " 175.03000149 176.94000725 179.97999249 181.71999569 179.97000324\n",
      " 178.44000078 178.65000152 178.0199993  175.2999995  175.24000223\n",
      " 171.27000783 168.84501005 164.93999725 172.77000135 168.34000729]\n"
     ]
    },
    {
     "name": "stderr",
     "output_type": "stream",
     "text": [
      "/tmp/ipykernel_255659/1021062276.py:1: DeprecationWarning: __array__ implementation doesn't accept a copy keyword, so passing copy=False failed. __array__ must implement 'dtype' and 'copy' keyword arguments. To learn more, see the migration guide https://numpy.org/devdocs/numpy_2_0_migration_guide.html#adapting-to-changes-in-the-copy-keyword\n",
      "  actual_new = scaler.inverse_transform(np.c_[np.zeros(20),np.zeros(20),np.zeros(20),np.array(actual)])\n"
     ]
    }
   ],
   "source": [
    "actual_new = scaler.inverse_transform(np.c_[np.zeros(20),np.zeros(20),np.zeros(20),np.array(actual)])\n",
    "print(actual_new[:,3])"
   ]
  },
  {
   "cell_type": "markdown",
   "id": "d5a92f53",
   "metadata": {},
   "source": [
    "## Step-7 : Model Evaluation"
   ]
  },
  {
   "cell_type": "markdown",
   "id": "56c2f424",
   "metadata": {},
   "source": [
    "### Evaluating Model Performance\n",
    "\n",
    "- After obtaining the predicted and actual closing prices in their **original scale**, we calculate **error metrics** to measure the model's accuracy.\n",
    "\n",
    "1. **Mean Absolute Error (MAE):**  \n",
    "   - Represents the **average absolute difference** between predicted and actual prices.  \n",
    "   - Lower MAE indicates that predictions are closer to the true values.\n",
    "\n",
    "2. **Root Mean Squared Error (RMSE):**  \n",
    "   - Measures the **square root of the average squared differences** between predicted and actual prices.  \n",
    "   - RMSE penalizes larger errors more heavily than MAE.  \n",
    "   - Lower RMSE indicates better model performance.\n",
    "\n",
    "- These metrics provide a quantitative assessment of the LSTM model's **accuracy in predicting stock prices**.\n"
   ]
  },
  {
   "cell_type": "code",
   "execution_count": 22,
   "id": "0479cd08",
   "metadata": {},
   "outputs": [
    {
     "name": "stdout",
     "output_type": "stream",
     "text": [
      "Mean Absolute Error (MAE): 2.0656969268620027\n",
      "Root Mean Squared Error (RMSE): 4.431896161323\n"
     ]
    }
   ],
   "source": [
    "from sklearn.metrics import mean_absolute_error, mean_squared_error\n",
    "\n",
    "mae = mean_absolute_error(actual_new, pred_new)\n",
    "print(\"Mean Absolute Error (MAE):\", mae)\n",
    "\n",
    "rmse = np.sqrt(mean_squared_error(actual_new, pred_new))\n",
    "print(\"Root Mean Squared Error (RMSE):\", rmse)"
   ]
  },
  {
   "cell_type": "markdown",
   "id": "e1b28882",
   "metadata": {},
   "source": [
    "### Visualizing Predicted vs Actual Stock Prices\n",
    "\n",
    "- A line plot is created to **compare the model's predictions with the actual stock prices**.  \n",
    "\n",
    "- **Red line (`Actual`)**: Represents the true closing prices from the test set.  \n",
    "- **Cyan line (`Predicted`)**: Represents the closing prices predicted by the LSTM model.  \n",
    "\n",
    "\n",
    "**Interpretation:** The closer the predicted line follows the actual line, the better the model is at capturing the stock price trends. This visual comparison provides an intuitive sense of model performance beyond numerical metrics.\n"
   ]
  },
  {
   "cell_type": "code",
   "execution_count": 24,
   "id": "8270793e",
   "metadata": {},
   "outputs": [
    {
     "data": {
      "image/png": "[encoded data removed]",
      "text/plain": [
       "<Figure size 640x480 with 1 Axes>"
      ]
     },
     "metadata": {},
     "output_type": "display_data"
    }
   ],
   "source": [
    "fig, ax = plt.subplots()\n",
    "\n",
    "ax.plot(actual_new[:,3], 'r-', label='Actual')\n",
    "ax.plot(pred_new[:,3], 'c-', label='Predicted')\n",
    "\n",
    "ax.set_ylabel('Stock Value (dollars)')\n",
    "\n",
    "ax.set_ylim(min(min(actual_new[:,3]), min(pred_new[:,3])) - 5, max(max(actual_new[:,3]), max(pred_new[:,3])) + 5)\n",
    "plt.xticks([])\n",
    "\n",
    "ax.legend(loc='upper left')\n",
    "\n",
    "plt.show()"
   ]
  },
  {
   "cell_type": "markdown",
   "id": "d211383b",
   "metadata": {},
   "source": [
    "### Visualizing Prediction Errors\n",
    "\n",
    "- We calculate the **difference** between actual and predicted stock prices to see how far off the model is for each time step.  \n",
    "\n",
    "- A line plot is created with the differences:\n",
    "  - **Blue line** shows the error for each prediction.\n",
    "\n",
    "- **Interpretation:** This visualization highlights where the model **overestimates or underestimates** the stock price and helps identify patterns in prediction errors over time.  \n",
    "- Large spikes indicate periods where the model struggled to predict accurately, while values near zero indicate accurate predictions.\n"
   ]
  },
  {
   "cell_type": "code",
   "execution_count": 25,
   "id": "5397743c",
   "metadata": {},
   "outputs": [
    {
     "data": {
      "image/png": "[encoded data removed]",
      "text/plain": [
       "<Figure size 640x480 with 1 Axes>"
      ]
     },
     "metadata": {},
     "output_type": "display_data"
    }
   ],
   "source": [
    "difference = actual_new - pred_new\n",
    "fig = plt.figure()\n",
    "diffGraph = fig.add_axes([0,0,1,1])\n",
    "diffGraph.plot(difference[:, 3], 'b')\n",
    "diffGraph.set_ylabel('Difference between Actual and Predicted Stock Value (dollars)')\n",
    "plt.xticks([])\n",
    "plt.show()"
   ]
  },
  {
   "cell_type": "markdown",
   "id": "4f0eb81e",
   "metadata": {},
   "source": [
    "## Step-8 Model Testing"
   ]
  },
  {
   "cell_type": "code",
   "execution_count": 33,
   "id": "f910eb81",
   "metadata": {},
   "outputs": [
    {
     "name": "stdout",
     "output_type": "stream",
     "text": [
      "--2025-09-20 23:58:23--  https://drive.google.com/uc?export=download&id=11NAOQIrlVZbaWzGTOIkEaqVxd313U20R\n",
      "Resolving drive.google.com (drive.google.com)... 2404:6800:4002:803::200e, 172.217.167.206\n",
      "Connecting to drive.google.com (drive.google.com)|2404:6800:4002:803::200e|:443... connected.\n",
      "HTTP request sent, awaiting response... 303 See Other\n",
      "Location: https://drive.usercontent.google.com/download?id=11NAOQIrlVZbaWzGTOIkEaqVxd313U20R&export=download [following]\n",
      "--2025-09-20 23:58:24--  https://drive.usercontent.google.com/download?id=11NAOQIrlVZbaWzGTOIkEaqVxd313U20R&export=download\n",
      "Resolving drive.usercontent.google.com (drive.usercontent.google.com)... 2404:6800:4002:805::2001, 142.250.67.65\n",
      "Connecting to drive.usercontent.google.com (drive.usercontent.google.com)|2404:6800:4002:805::2001|:443... connected.\n",
      "HTTP request sent, awaiting response... 200 OK\n",
      "Length: 133916 (131K) [application/octet-stream]\n",
      "Saving to: ‘goldstock.csv’\n",
      "\n",
      "goldstock.csv       100%[===================>] 130.78K   375KB/s    in 0.3s    \n",
      "\n",
      "2025-09-20 23:58:26 (375 KB/s) - ‘goldstock.csv’ saved [133916/133916]\n",
      "\n"
     ]
    }
   ],
   "source": [
    "# Download the Test Dataset - goldstock.csv\n",
    "\n",
    "!wget --no-check-certificate 'https://drive.google.com/uc?export=download&id=11NAOQIrlVZbaWzGTOIkEaqVxd313U20R' -O goldstock.csv"
   ]
  },
  {
   "cell_type": "markdown",
   "id": "7b852011",
   "metadata": {},
   "source": [
    "### Testing the LSTM Model on a New Dataset (Gold Prices)\n",
    " \n",
    "- The dataset is **sorted by date** to maintain chronological order, which is essential for time series prediction.  \n",
    "- Relevant columns for modeling (`Close`, `Open`, `High`, `Low`) are selected and stored in `gold_price`.  \n",
    "- Since the LSTM model was trained on **scaled stock prices**, we apply the **same MinMaxScaler** to normalize the gold price data.  \n",
    "- This ensures that the new data is on the **same scale** as the training data, allowing the model to make meaningful predictions on unseen datasets.\n"
   ]
  },
  {
   "cell_type": "code",
   "execution_count": 34,
   "id": "10ec56aa",
   "metadata": {},
   "outputs": [],
   "source": [
    "df = pd.read_csv('goldstock.csv')\n",
    "df = df.sort_values(by=\"Date\")\n",
    "gold_price = df[['Close', 'Open', 'High', 'Low']]\n",
    "gold_price = scaler.fit_transform(gold_price.values)"
   ]
  },
  {
   "cell_type": "markdown",
   "id": "29690bd8",
   "metadata": {},
   "source": [
    "### Creating Input-Output Sequences for Gold Price Prediction\n",
    "\n",
    "- To prepare the gold price data for the LSTM, we use the same **sequence-based approach** as for the stock data.  \n",
    "- `train_window = 7` specifies that each input sequence consists of **7 consecutive days of price data**.  \n",
    "- `create_in_out_sequences` generates:\n",
    "  - `gold_train`: sequences for training the model (if retraining is needed)  \n",
    "  - `gold_test`: sequences for evaluating the model on the gold price data  \n",
    "- This step converts the time series into the **format required by the LSTM**, where each sequence is paired with the next day's closing price as the label.\n"
   ]
  },
  {
   "cell_type": "code",
   "execution_count": 35,
   "id": "4caf1fc0",
   "metadata": {},
   "outputs": [
    {
     "name": "stdout",
     "output_type": "stream",
     "text": [
      "Length =  2511\n",
      "size of data :  2504\n",
      "size of test :  20\n",
      "size of train :  2484\n"
     ]
    }
   ],
   "source": [
    "train_window = 7 \n",
    "gold_train, gold_test = create_in_out_sequences(gold_price, train_window)"
   ]
  },
  {
   "cell_type": "markdown",
   "id": "e56d8a92",
   "metadata": {},
   "source": [
    "### Training the LSTM Model on Stock Data (or Retraining if Needed)\n",
    "\n",
    "- The model is trained over multiple epochs to **learn temporal patterns** in the input sequences.  \n",
    "\n",
    "- **Epoch Loop:** Iterates over the dataset several times to improve learning.  \n",
    "\n",
    "- **Sequence Loop:** Processes each input sequence and its corresponding label.  \n",
    "\n",
    "- **Data Conversion:** Sequences and labels are converted to PyTorch tensors to be compatible with the LSTM model.  \n",
    "\n",
    "- **Forward Pass:** The model predicts the next day's closing price for each sequence.  \n",
    "\n",
    "- **Loss Calculation:** The difference between predicted and actual prices is measured using Mean Squared Error (MSE).  \n",
    "\n",
    "- **Backward Pass and Optimization:** Gradients are computed and the model's weights are updated to minimize the loss.  \n",
    "\n",
    "- **Epoch Loss Tracking:** Losses from all sequences are accumulated, and the **average loss per epoch** is printed to monitor model performance.  \n",
    "\n",
    "> This iterative process allows the LSTM to gradually improve its predictions by adjusting weights according to the observed errors.\n"
   ]
  },
  {
   "cell_type": "code",
   "execution_count": 36,
   "id": "ca0c64b1",
   "metadata": {},
   "outputs": [
    {
     "name": "stderr",
     "output_type": "stream",
     "text": [
      "100%|██████████| 9367/9367 [00:16<00:00, 580.10it/s]\n",
      " 20%|██        | 1/5 [00:16<01:04, 16.15s/it]"
     ]
    },
    {
     "name": "stdout",
     "output_type": "stream",
     "text": [
      "epoch:   0 loss: 0.0008625218\n"
     ]
    },
    {
     "name": "stderr",
     "output_type": "stream",
     "text": [
      "100%|██████████| 9367/9367 [00:15<00:00, 605.23it/s]\n",
      " 40%|████      | 2/5 [00:31<00:47, 15.76s/it]"
     ]
    },
    {
     "name": "stdout",
     "output_type": "stream",
     "text": [
      "epoch:   1 loss: 0.0007922779\n"
     ]
    },
    {
     "name": "stderr",
     "output_type": "stream",
     "text": [
      "100%|██████████| 9367/9367 [00:15<00:00, 595.99it/s]\n",
      " 60%|██████    | 3/5 [00:47<00:31, 15.74s/it]"
     ]
    },
    {
     "name": "stdout",
     "output_type": "stream",
     "text": [
      "epoch:   2 loss: 0.0007317561\n"
     ]
    },
    {
     "name": "stderr",
     "output_type": "stream",
     "text": [
      "100%|██████████| 9367/9367 [00:15<00:00, 593.00it/s]\n",
      " 80%|████████  | 4/5 [01:03<00:15, 15.76s/it]"
     ]
    },
    {
     "name": "stdout",
     "output_type": "stream",
     "text": [
      "epoch:   3 loss: 0.0006733751\n"
     ]
    },
    {
     "name": "stderr",
     "output_type": "stream",
     "text": [
      "100%|██████████| 9367/9367 [00:15<00:00, 599.65it/s]\n",
      "100%|██████████| 5/5 [01:18<00:00, 15.75s/it]"
     ]
    },
    {
     "name": "stdout",
     "output_type": "stream",
     "text": [
      "epoch:   4 loss: 0.0006216859\n"
     ]
    },
    {
     "name": "stderr",
     "output_type": "stream",
     "text": [
      "\n"
     ]
    }
   ],
   "source": [
    "epochs = 5\n",
    "for i in tqdm(range(epochs)):\n",
    "    epoch_loss = 0\n",
    "    for seq, labels in tqdm(train):\n",
    "        seq = torch.from_numpy(np.array(seq)).type(torch.FloatTensor)\n",
    "        labels = torch.from_numpy(np.array(labels)).type(torch.FloatTensor)\n",
    "\n",
    "        optimizer.zero_grad()\n",
    "\n",
    "        y_pred = model(seq)\n",
    "        \n",
    "        labels = labels.view(1)\n",
    "        \n",
    "        single_loss = loss_function(y_pred, labels)\n",
    "        single_loss.backward()\n",
    "        optimizer.step()\n",
    "\n",
    "        epoch_loss += single_loss.item()\n",
    "\n",
    "    average_loss = epoch_loss / len(train)\n",
    "    print(f'epoch: {i:3} loss: {average_loss:.10f}')"
   ]
  },
  {
   "cell_type": "markdown",
   "id": "597791d7",
   "metadata": {},
   "source": [
    "### Evaluating the LSTM Model on the Test Dataset\n",
    "\n",
    "- The model is set to **evaluation mode**, which disables training-specific behaviors like dropout.  \n",
    "\n",
    "- **Lists Initialization:** Two empty lists are created to store the **actual closing prices** and **predicted values**.  \n",
    "\n",
    "- **Iteration over Test Sequences:** For each sequence in the test set:\n",
    "  - Convert the sequence and label into PyTorch tensors.\n",
    "  - Append the actual closing price to the `actual` list.\n",
    "  - Use `torch.no_grad()` to **disable gradient calculations** during prediction, saving memory and speeding up computation.\n",
    "  - Append the model’s predicted closing price to the `pred` list.\n",
    "\n",
    "- **Conversion to NumPy Arrays:** After processing all sequences, both `actual` and `pred` are converted to NumPy arrays for further analysis, such as error calculation or visualization.\n",
    "\n",
    "> This step generates the predicted versus actual closing prices for the test set, enabling evaluation of the model’s performance.\n"
   ]
  },
  {
   "cell_type": "code",
   "execution_count": 37,
   "id": "2407118d",
   "metadata": {},
   "outputs": [],
   "source": [
    "model.eval()\n",
    "actual = []\n",
    "pred = []\n",
    "\n",
    "for seq, labels in test:\n",
    "    seq = torch.from_numpy(np.array(seq)).type(torch.FloatTensor)\n",
    "    labels = torch.from_numpy(np.array(labels)).type(torch.FloatTensor)\n",
    "    actual.append(labels.item())\n",
    "    with torch.no_grad():\n",
    "        pred.append(model(seq).item())\n",
    "\n",
    "actual = np.array(actual)\n",
    "pred = np.array(pred)"
   ]
  },
  {
   "cell_type": "markdown",
   "id": "f45c0aa3",
   "metadata": {},
   "source": [
    "### Converting Predictions and Actual Values Back to Original Scale and Evaluating Performance\n",
    "\n",
    "- **Conversion to Tensors:** The predicted (`gold_pred`) and actual (`gold_actual`) closing prices are converted into PyTorch tensors to allow further operations.  \n",
    "\n",
    "- **Inverse Scaling:** Since the model was trained on **scaled values**, the predictions and actual prices are transformed back to the **original price range** using the same `MinMaxScaler`.  \n",
    "  - A temporary array of zeros is used for other columns, and the closing prices are inserted in the fourth column before applying `inverse_transform`.  \n",
    "  - `gold_pred_new` contains the **predicted gold prices**, and `gold_actual_new` contains the **actual gold prices** in their original scale.\n",
    "\n",
    "- **Performance Metric (RMSE):**  \n",
    "  - Root Mean Squared Error (RMSE) is computed to quantify how close the predicted prices are to the actual prices.  \n",
    "  - Lower RMSE indicates better predictive performance.\n",
    "\n",
    "> This process ensures that predictions can be interpreted in terms of **real-world prices** and provides a quantitative measure of the model’s accuracy on unseen gold price data.\n"
   ]
  },
  {
   "cell_type": "code",
   "execution_count": 38,
   "id": "ade2f5dc",
   "metadata": {},
   "outputs": [
    {
     "name": "stdout",
     "output_type": "stream",
     "text": [
      "Root Mean Squared Error (RMSE): 4.851741760102917\n"
     ]
    },
    {
     "name": "stderr",
     "output_type": "stream",
     "text": [
      "/tmp/ipykernel_255659/2597457892.py:4: DeprecationWarning: __array__ implementation doesn't accept a copy keyword, so passing copy=False failed. __array__ must implement 'dtype' and 'copy' keyword arguments. To learn more, see the migration guide https://numpy.org/devdocs/numpy_2_0_migration_guide.html#adapting-to-changes-in-the-copy-keyword\n",
      "  gold_pred_new = scaler.inverse_transform(np.c_[np.zeros(20),np.zeros(20),np.zeros(20),np.array(gold_pred)])\n",
      "/tmp/ipykernel_255659/2597457892.py:5: DeprecationWarning: __array__ implementation doesn't accept a copy keyword, so passing copy=False failed. __array__ must implement 'dtype' and 'copy' keyword arguments. To learn more, see the migration guide https://numpy.org/devdocs/numpy_2_0_migration_guide.html#adapting-to-changes-in-the-copy-keyword\n",
      "  gold_actual_new = scaler.inverse_transform(np.c_[np.zeros(20),np.zeros(20),np.zeros(20),np.array(gold_actual)])\n"
     ]
    }
   ],
   "source": [
    "gold_pred = torch.from_numpy(np.array(pred)).type(torch.Tensor)\n",
    "gold_actual = torch.from_numpy(np.array(actual)).type(torch.Tensor)\n",
    "\n",
    "gold_pred_new = scaler.inverse_transform(np.c_[np.zeros(20),np.zeros(20),np.zeros(20),np.array(gold_pred)])\n",
    "gold_actual_new = scaler.inverse_transform(np.c_[np.zeros(20),np.zeros(20),np.zeros(20),np.array(gold_actual)])\n",
    "\n",
    "rmse = np.sqrt(mean_squared_error(gold_actual_new, gold_pred_new))\n",
    "print(\"Root Mean Squared Error (RMSE):\", rmse)\n"
   ]
  },
  {
   "cell_type": "markdown",
   "id": "96d6d248",
   "metadata": {},
   "source": [
    "### Visualizing Predicted vs Actual Gold Prices\n",
    "\n",
    "- A line plot is created to **compare the model’s predicted gold prices with the actual closing prices**.  \n",
    "\n",
    "- **Red line (`Actual`)**: Shows the true gold closing prices from the test set.  \n",
    "- **Cyan line (`Predicted`)**: Shows the gold prices predicted by the LSTM model.  \n",
    "\n",
    "- **Interpretation:**  \n",
    "  - The closer the predicted line follows the actual line, the better the model is at capturing trends in gold prices.  \n",
    "  - Deviations between the lines highlight areas where the model underestimates or overestimates the price.  \n",
    "- This visualization helps in understanding the **accuracy and reliability** of the model on new, unseen data.\n"
   ]
  },
  {
   "cell_type": "code",
   "execution_count": 39,
   "id": "7940b49a",
   "metadata": {},
   "outputs": [
    {
     "data": {
      "image/png": "[encoded data removed]",
      "text/plain": [
       "<Figure size 640x480 with 1 Axes>"
      ]
     },
     "metadata": {},
     "output_type": "display_data"
    }
   ],
   "source": [
    "fig, ax = plt.subplots()\n",
    "\n",
    "ax.plot(gold_actual_new[:,3], 'r-', label='Gold Actual Prices')\n",
    "ax.plot(gold_pred_new[:,3], 'c-', label='Gold Predicted Prices')\n",
    "\n",
    "ax.set_ylabel('Stock Value (dollars)')\n",
    "\n",
    "ax.set_ylim(min(min(gold_actual_new[:,3]), min(gold_pred_new[:,3])) - 5, max(max(gold_actual_new[:,3]), max(gold_pred_new[:,3])) + 5)\n",
    "plt.xticks([])\n",
    "\n",
    "ax.legend(loc='upper left')\n",
    "\n",
    "plt.show()"
   ]
  },
  {
   "cell_type": "markdown",
   "id": "9d5fcc7f",
   "metadata": {},
   "source": [
    "### Visualizing Prediction Errors for Gold Prices\n",
    "\n",
    "- We calculate the **difference between actual and predicted gold prices** to analyze the model's prediction errors.  \n",
    "\n",
    "- The differences highlight where the model **overestimates or underestimates** the true closing prices.  \n",
    "- A line plot is created with the differences:\n",
    "  - **Blue line** shows the error for each prediction.  \n",
    "\n",
    "- **Interpretation:**  \n",
    "  - Values near zero indicate accurate predictions.  \n",
    "  - Large spikes indicate points where the model struggled to predict accurately.  \n",
    "  - This visualization provides insight into the **consistency and reliability** of the model across the test dataset.\n"
   ]
  },
  {
   "cell_type": "code",
   "execution_count": 40,
   "id": "8830ef0c",
   "metadata": {},
   "outputs": [
    {
     "data": {
      "image/png": "[encoded data removed]",
      "text/plain": [
       "<Figure size 640x480 with 1 Axes>"
      ]
     },
     "metadata": {},
     "output_type": "display_data"
    }
   ],
   "source": [
    "difference = gold_actual_new - gold_pred_new\n",
    "fig = plt.figure()\n",
    "diffGraph = fig.add_axes([0,0,1,1])\n",
    "diffGraph.plot(difference[:, 3], 'b')\n",
    "diffGraph.set_ylabel('Difference between Gold\\'s Actual Prices and Predicted Gold Prices (dollars)')\n",
    "plt.xticks([])\n",
    "plt.show()"
   ]
  }
 ],
 "metadata": {
  "kernelspec": {
   "display_name": "venv",
   "language": "python",
   "name": "python3"
  },
  "language_info": {
   "codemirror_mode": {
    "name": "ipython",
    "version": 3
   },
   "file_extension": ".py",
   "mimetype": "text/x-python",
   "name": "python",
   "nbconvert_exporter": "python",
   "pygments_lexer": "ipython3",
   "version": "3.12.7"
  }
 },
 "nbformat": 4,
 "nbformat_minor": 5
}
